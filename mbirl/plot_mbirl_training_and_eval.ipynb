{
 "cells": [
  {
   "cell_type": "code",
   "execution_count": 5,
   "metadata": {
    "scrolled": true
   },
   "outputs": [],
   "source": [
    "import os, sys\n",
    "import torch\n",
    "import numpy as np\n",
    "import dill as pickle\n",
    "import matplotlib.pyplot as plt\n",
    "from os.path import dirname, abspath\n",
    "from differentiable_robot_model import DifferentiableRobotModel\n",
    "\n",
    "traj_data_dir = os.path.join('traj_data')\n",
    "model_data_dir = os.path.join('model_data')\n",
    "from mbirl.keypoint_mpc import KeypointMPCWrapper\n",
    "from mbirl.learnable_costs import *\n",
    "import mbirl\n",
    "import warnings\n",
    "warnings.filterwarnings('ignore')"
   ]
  },
  {
   "cell_type": "code",
   "execution_count": 2,
   "metadata": {},
   "outputs": [],
   "source": [
    "experiment_type = 'placing'"
   ]
  },
  {
   "cell_type": "code",
   "execution_count": 3,
   "metadata": {},
   "outputs": [],
   "source": [
    "# Get data saved during training\n",
    "\n",
    "if not os.path.exists(\n",
    "        f\"{model_data_dir}/{experiment_type}_TimeDep\") or not os.path.exists(\n",
    "    f\"{model_data_dir}/{experiment_type}_Weighted\") or not os.path.exists(f\"{model_data_dir}/{experiment_type}_RBF\"):\n",
    "    assert False, \"Path does not exist\"\n",
    "\n",
    "timedep = torch.load(f\"{model_data_dir}/{experiment_type}_TimeDep\")\n",
    "weighted = torch.load(f\"{model_data_dir}/{experiment_type}_Weighted\")\n",
    "rbf = torch.load(f\"{model_data_dir}/{experiment_type}_RBF\")"
   ]
  },
  {
   "cell_type": "code",
   "execution_count": 4,
   "metadata": {},
   "outputs": [
    {
     "ename": "KeyError",
     "evalue": "'irl_cost_tr'",
     "output_type": "error",
     "traceback": [
      "\u001b[0;31m---------------------------------------------------------------------------\u001b[0m",
      "\u001b[0;31mKeyError\u001b[0m                                  Traceback (most recent call last)",
      "\u001b[0;32m<ipython-input-4-a255ceb00ae1>\u001b[0m in \u001b[0;36m<module>\u001b[0;34m\u001b[0m\n\u001b[1;32m      2\u001b[0m \u001b[0;34m\u001b[0m\u001b[0m\n\u001b[1;32m      3\u001b[0m \u001b[0mplt\u001b[0m\u001b[0;34m.\u001b[0m\u001b[0mfigure\u001b[0m\u001b[0;34m(\u001b[0m\u001b[0;34m)\u001b[0m\u001b[0;34m\u001b[0m\u001b[0;34m\u001b[0m\u001b[0m\n\u001b[0;32m----> 4\u001b[0;31m \u001b[0mplt\u001b[0m\u001b[0;34m.\u001b[0m\u001b[0mplot\u001b[0m\u001b[0;34m(\u001b[0m\u001b[0mweighted\u001b[0m\u001b[0;34m[\u001b[0m\u001b[0;34m'irl_cost_tr'\u001b[0m\u001b[0;34m]\u001b[0m\u001b[0;34m.\u001b[0m\u001b[0mdetach\u001b[0m\u001b[0;34m(\u001b[0m\u001b[0;34m)\u001b[0m\u001b[0;34m,\u001b[0m \u001b[0mcolor\u001b[0m\u001b[0;34m=\u001b[0m\u001b[0;34m'orange'\u001b[0m\u001b[0;34m,\u001b[0m \u001b[0mlabel\u001b[0m\u001b[0;34m=\u001b[0m\u001b[0;34m\"Weighted Ours\"\u001b[0m\u001b[0;34m)\u001b[0m\u001b[0;34m\u001b[0m\u001b[0;34m\u001b[0m\u001b[0m\n\u001b[0m\u001b[1;32m      5\u001b[0m \u001b[0mplt\u001b[0m\u001b[0;34m.\u001b[0m\u001b[0mplot\u001b[0m\u001b[0;34m(\u001b[0m\u001b[0mtimedep\u001b[0m\u001b[0;34m[\u001b[0m\u001b[0;34m'irl_cost_tr'\u001b[0m\u001b[0;34m]\u001b[0m\u001b[0;34m.\u001b[0m\u001b[0mdetach\u001b[0m\u001b[0;34m(\u001b[0m\u001b[0;34m)\u001b[0m\u001b[0;34m,\u001b[0m \u001b[0mcolor\u001b[0m\u001b[0;34m=\u001b[0m\u001b[0;34m'green'\u001b[0m\u001b[0;34m,\u001b[0m \u001b[0mlabel\u001b[0m\u001b[0;34m=\u001b[0m\u001b[0;34m\"Time Dep Weighted Ours\"\u001b[0m\u001b[0;34m)\u001b[0m\u001b[0;34m\u001b[0m\u001b[0;34m\u001b[0m\u001b[0m\n\u001b[1;32m      6\u001b[0m \u001b[0mplt\u001b[0m\u001b[0;34m.\u001b[0m\u001b[0mplot\u001b[0m\u001b[0;34m(\u001b[0m\u001b[0mrbf\u001b[0m\u001b[0;34m[\u001b[0m\u001b[0;34m'irl_cost_tr'\u001b[0m\u001b[0;34m]\u001b[0m\u001b[0;34m.\u001b[0m\u001b[0mdetach\u001b[0m\u001b[0;34m(\u001b[0m\u001b[0;34m)\u001b[0m\u001b[0;34m,\u001b[0m \u001b[0mcolor\u001b[0m\u001b[0;34m=\u001b[0m\u001b[0;34m'violet'\u001b[0m\u001b[0;34m,\u001b[0m \u001b[0mlabel\u001b[0m\u001b[0;34m=\u001b[0m\u001b[0;34m\"RBF Weighted Ours\"\u001b[0m\u001b[0;34m)\u001b[0m\u001b[0;34m\u001b[0m\u001b[0;34m\u001b[0m\u001b[0m\n",
      "\u001b[0;31mKeyError\u001b[0m: 'irl_cost_tr'"
     ]
    },
    {
     "data": {
      "text/plain": [
       "<Figure size 432x288 with 0 Axes>"
      ]
     },
     "metadata": {},
     "output_type": "display_data"
    }
   ],
   "source": [
    "# IRL Cost\n",
    "\n",
    "plt.figure()\n",
    "plt.plot(weighted['irl_loss_train'].detach(), color='orange', label=\"Weighted Ours\")\n",
    "plt.plot(timedep['irl_loss_train'].detach(), color='green', label=\"Time Dep Weighted Ours\")\n",
    "plt.plot(rbf['irl_loss_train'].detach(), color='violet', label=\"RBF Weighted Ours\")\n",
    "plt.xlabel(\"iterations\")\n",
    "plt.ylabel(\"IRL Loss on train\")\n",
    "plt.ylim(2000)\n",
    "plt.legend()\n",
    "\n",
    "plt.savefig(f\"{model_data_dir}/{experiment_type}_IRL_loss_train.png\")"
   ]
  },
  {
   "cell_type": "code",
   "execution_count": null,
   "metadata": {},
   "outputs": [],
   "source": [
    "# Plot Evaluation\n",
    "\n",
    "plt.figure()\n",
    "weighted_trace = weighted['irl_loss_test'].detach()\n",
    "w_mean = weighted_trace.mean(dim=-1)\n",
    "w_std = weighted_trace.std(dim=-1)\n",
    "timedep_trace = timedep['irl_loss_test'].detach()\n",
    "t_mean = timedep_trace.mean(dim=-1)\n",
    "t_std = timedep_trace.std(dim=-1)\n",
    "rbf_trace = rbf['irl_loss_test'].detach()\n",
    "r_mean = rbf_trace.mean(dim=-1)\n",
    "r_std = rbf_trace.std(dim=-1)\n",
    "plt.plot(w_mean, color='orange', label=\"Weighted Ours\")\n",
    "plt.fill_between(np.arange(len(w_mean)), w_mean - w_std, w_mean + w_std, color='orange', alpha=0.1)\n",
    "plt.plot(t_mean, color='green', label=\"Time Dep Weighted Ours\")\n",
    "plt.fill_between(np.arange(len(t_mean)), t_mean - t_std, t_mean + t_std, color='green', alpha=0.1)\n",
    "plt.plot(r_mean, color='violet', label=\"RBF Weighted Ours\")\n",
    "plt.fill_between(np.arange(len(r_mean)), r_mean - r_std, r_mean + r_std, color='blueviolet', alpha=0.1)\n",
    "plt.xlabel(\"iterations\")\n",
    "plt.ylabel(\"IRL Loss on test\")\n",
    "plt.legend()\n",
    "\n",
    "plt.savefig(f\"{model_data_dir}/{experiment_type}_IRL_loss_test.png\")\n",
    "plt.show()"
   ]
  }
 ],
 "metadata": {
  "kernelspec": {
   "display_name": "Python 3",
   "language": "python",
   "name": "python3"
  },
  "language_info": {
   "codemirror_mode": {
    "name": "ipython",
    "version": 3
   },
   "file_extension": ".py",
   "mimetype": "text/x-python",
   "name": "python",
   "nbconvert_exporter": "python",
   "pygments_lexer": "ipython3",
   "version": "3.7.9"
  }
 },
 "nbformat": 4,
 "nbformat_minor": 4
}
